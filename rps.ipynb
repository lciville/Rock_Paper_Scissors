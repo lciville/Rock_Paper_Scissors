{
 "cells": [
  {
   "cell_type": "code",
   "execution_count": null,
   "id": "89f299e8",
   "metadata": {},
   "outputs": [],
   "source": [
    "import random\n",
    "\n",
    "user_choice = input(\"chose(rock,paper,scissors):\").lower()\n",
    "options=['rock','paper','scissors']\n",
    "\n",
    "computer_choice = random.choice(options)\n",
    "print(f\"\\n You chose {user_choice}, computers chose {computer_choice}.\\n\")\n",
    "\n",
    "if user_choice == computer_choice:\n",
    "    print(f\"Both chose{user_choice}. It's a tie.\")\n",
    "elif user_choice == \"rock\":\n",
    "    if computer_choice == \"scissors\":\n",
    "        print(\"Rock beats scissors. You win\")\n",
    "    else:\n",
    "        print(\"Paper covers rock. You lose\")\n",
    "elif user_choice == \"paper\":\n",
    "    if computer_choice == \"rock\":\n",
    "        print(\"Paper covers rock. You win\")\n",
    "    else: \n",
    "        print(\"Scissors beats paper. You lose\")\n",
    "elif user_choice == \"scissors\":\n",
    "    if computer_choice == \"paper\":\n",
    "        print(\"Scissors beats paper. You win\")\n",
    "    else:\n",
    "        print(\"Rock beats scissors. You lose.\")\n",
    "\n",
    "\n",
    "\n",
    "    "
   ]
  }
 ],
 "metadata": {
  "kernelspec": {
   "display_name": "Python 3",
   "language": "python",
   "name": "python3"
  },
  "language_info": {
   "codemirror_mode": {
    "name": "ipython",
    "version": 3
   },
   "file_extension": ".py",
   "mimetype": "text/x-python",
   "name": "python",
   "nbconvert_exporter": "python",
   "pygments_lexer": "ipython3",
   "version": "3.14.0"
  }
 },
 "nbformat": 4,
 "nbformat_minor": 5
}
